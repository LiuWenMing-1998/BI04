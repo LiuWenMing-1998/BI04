{
 "cells": [
  {
   "cell_type": "markdown",
   "metadata": {},
   "source": [
    "Thinking1\t在实际工作中，FM和MF哪个应用的更多，为什么"
   ]
  },
  {
   "cell_type": "markdown",
   "metadata": {},
   "source": [
    "在实际工作中，FM的应用场景更多一点，因为矩阵分解MF特征只有User ID 和Item ID，只适用于评分预测，进行简单的特征计算，无法利用其他特征，而FM引入了更多辅助信息作为特征，FM的应用场景则有很多，可以应用于一般的回归问题和二分类问题。"
   ]
  },
  {
   "cell_type": "markdown",
   "metadata": {},
   "source": [
    "Thinking2\tFFM与FM有哪些区别？"
   ]
  },
  {
   "cell_type": "markdown",
   "metadata": {},
   "source": [
    "FM算法每一个特征只有一个隐向量，而FFM每个特征有多个隐向量，使用哪个，取决于和哪个向量进行点乘。"
   ]
  },
  {
   "cell_type": "markdown",
   "metadata": {},
   "source": [
    "Thinking3\tDeepFM相比于FM解决了哪些问题，原理是怎样的"
   ]
  },
  {
   "cell_type": "markdown",
   "metadata": {},
   "source": [
    "DeepFM = FM + DNN。可以提取低阶特征，其中因子分解机FM既可以做1阶特征建模，也可以做2阶特征建模；同时可以使用DNN神经网络来提取高阶特征。数据可以走两条路，一个是走左边坐FM的计算，低阶项的特征提取，第二个是走右边把数据通过神经网络进行高阶项的特征提取，最后将其汇合使用sigmod完成预测。"
   ]
  },
  {
   "cell_type": "markdown",
   "metadata": {},
   "source": [
    "Thinking4\tSurprise工具中的baseline算法原理是怎样的？BaselineOnly和KNNBaseline有什么区别？\t"
   ]
  },
  {
   "attachments": {},
   "cell_type": "markdown",
   "metadata": {},
   "source": [
    "Baseline算法是基于统计的基准预测线打分，预测值等于用户对整体的偏差、商品对整体的偏差、用户对商品的评分之和。BaselineOnly是直接进行计算，而KNNBaseline是基于领域的，邻域指的是整个大框架是通过它的邻居来预估的。"
   ]
  },
  {
   "cell_type": "markdown",
   "metadata": {},
   "source": [
    "Thinking5\t基于邻域的协同过滤都有哪些算法，请简述原理"
   ]
  },
  {
   "attachments": {},
   "cell_type": "markdown",
   "metadata": {},
   "source": [
    "UserCF：给用户推荐和他兴趣相似的其他用户喜欢的物品，首先找到和目标用户兴趣相似的用户集合，计算用户u对物品i的相似度，为用户u生成推荐列表，把和用户兴趣相同的k个邻居，喜欢的物品进行汇总，去掉用户u已经喜欢过的物品，剩下按照从大到小进行推荐、ItemCF：给用户推荐和他之前喜欢的物品相似的物品，首先计算物品之间相似度，计算用户u对物品i的兴趣度，为用户u生成推荐列表和用户历史上感兴趣的物品越相似的物品，越有可能在用户的推荐列表中获得比较高的排名，预测用户u对物品的兴趣度，去掉用户u已经喜欢过的物品，剩下按照从大到小进行推荐。"
   ]
  }
 ],
 "metadata": {
  "kernelspec": {
   "display_name": "Python 3",
   "language": "python",
   "name": "python3"
  },
  "language_info": {
   "codemirror_mode": {
    "name": "ipython",
    "version": 3
   },
   "file_extension": ".py",
   "mimetype": "text/x-python",
   "name": "python",
   "nbconvert_exporter": "python",
   "pygments_lexer": "ipython3",
   "version": "3.6.5"
  }
 },
 "nbformat": 4,
 "nbformat_minor": 2
}
