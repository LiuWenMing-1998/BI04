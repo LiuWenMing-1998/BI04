{
 "cells": [
  {
   "attachments": {},
   "cell_type": "markdown",
   "metadata": {},
   "source": [
    "#### Thinking1\t既然内容相似度计算简单，能频繁更新，为什么还需要协同过滤算法呢？\t\t"
   ]
  },
  {
   "cell_type": "markdown",
   "metadata": {},
   "source": [
    "基于内容的推荐算法根据物品的属性来为其打上标签，从而通过对它们的标签菜计算相似度，尽管计算简单而且能够频繁更新，但是并不能实时动态的反应用户的行为，而协同过滤算法则弥补了这一缺陷，协同过滤算法根据数据找到与你相似的用户，将他们感兴趣的内容和物品推荐给你。"
   ]
  },
  {
   "attachments": {},
   "cell_type": "markdown",
   "metadata": {},
   "source": [
    "#### Thinking2\t你需要推荐系统么？哪些情况下不需要推荐系统？"
   ]
  },
  {
   "cell_type": "markdown",
   "metadata": {},
   "source": [
    "当数据量很庞大的时候，推荐系统是十分有用的。在数据量很小甚至没有的情况下是不需要推荐系统的，比如说，用户冷启动，对于新用户来说，直接可以推荐热门或者基于内容推荐即可；物品冷启动，根据物品的属性找出相似度很高的其他物品，将其推荐给对应的用户，这同样也是基于内容推荐；系统冷启动，在没有用户和物品数据的情况下，同样是基于内容推荐，不需要协同过滤算法。"
   ]
  },
  {
   "cell_type": "markdown",
   "metadata": {},
   "source": [
    "#### Thinking3\t如果给一个视频打标签，视频中有音乐作为背景音乐，采用了NLP方式对内容自动打标签，可能存在什么问题？\t\t\t\t"
   ]
  },
  {
   "cell_type": "markdown",
   "metadata": {},
   "source": [
    "用npl方式对内容自动打标签，nlp所识别背景音乐的歌词可能会作为打标签的干扰项，从而造成标签的冗余，导致基于内容推荐的算法效果降低。"
   ]
  },
  {
   "cell_type": "code",
   "execution_count": null,
   "metadata": {},
   "outputs": [],
   "source": []
  }
 ],
 "metadata": {
  "kernelspec": {
   "display_name": "Python 3",
   "language": "python",
   "name": "python3"
  },
  "language_info": {
   "codemirror_mode": {
    "name": "ipython",
    "version": 3
   },
   "file_extension": ".py",
   "mimetype": "text/x-python",
   "name": "python",
   "nbconvert_exporter": "python",
   "pygments_lexer": "ipython3",
   "version": "3.6.5"
  }
 },
 "nbformat": 4,
 "nbformat_minor": 2
}
